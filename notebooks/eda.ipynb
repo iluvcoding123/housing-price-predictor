{
 "cells": [
  {
   "cell_type": "markdown",
   "metadata": {},
   "source": [
    "# Ames Housing EDA\n",
    "This notebook explores the Ames Housing dataset to identify trends, relationships, and data quality issues in preparation for feature engineering and modeling."
   ]
  },
  {
   "cell_type": "code",
   "execution_count": 181,
   "metadata": {},
   "outputs": [],
   "source": [
    "# NOTE: Dropped rows with missing values in low-null columns (1–2 missing total)\n",
    "#       Will revisit this strategy if we choose to impute later on"
   ]
  },
  {
   "cell_type": "markdown",
   "metadata": {},
   "source": [
    "### Import Statements"
   ]
  },
  {
   "cell_type": "code",
   "execution_count": 182,
   "metadata": {},
   "outputs": [],
   "source": [
    "import pandas as pd\n",
    "import numpy as np\n",
    "import matplotlib.pyplot as plt\n",
    "import seaborn as sns"
   ]
  },
  {
   "cell_type": "markdown",
   "metadata": {},
   "source": [
    "### Load Data"
   ]
  },
  {
   "cell_type": "code",
   "execution_count": 183,
   "metadata": {},
   "outputs": [],
   "source": [
    "df = pd.read_csv('../data/AmesHousing.csv')\n",
    "\n",
    "# Create a copy of preprocessed data\n",
    "df_og = df.copy()"
   ]
  },
  {
   "cell_type": "markdown",
   "metadata": {},
   "source": [
    "### Initial Overview"
   ]
  },
  {
   "cell_type": "code",
   "execution_count": 184,
   "metadata": {},
   "outputs": [
    {
     "name": "stdout",
     "output_type": "stream",
     "text": [
      "(2930, 82)\n",
      "<class 'pandas.core.frame.DataFrame'>\n",
      "RangeIndex: 2930 entries, 0 to 2929\n",
      "Data columns (total 82 columns):\n",
      " #   Column           Non-Null Count  Dtype  \n",
      "---  ------           --------------  -----  \n",
      " 0   Order            2930 non-null   int64  \n",
      " 1   PID              2930 non-null   int64  \n",
      " 2   MS SubClass      2930 non-null   int64  \n",
      " 3   MS Zoning        2930 non-null   object \n",
      " 4   Lot Frontage     2440 non-null   float64\n",
      " 5   Lot Area         2930 non-null   int64  \n",
      " 6   Street           2930 non-null   object \n",
      " 7   Alley            198 non-null    object \n",
      " 8   Lot Shape        2930 non-null   object \n",
      " 9   Land Contour     2930 non-null   object \n",
      " 10  Utilities        2930 non-null   object \n",
      " 11  Lot Config       2930 non-null   object \n",
      " 12  Land Slope       2930 non-null   object \n",
      " 13  Neighborhood     2930 non-null   object \n",
      " 14  Condition 1      2930 non-null   object \n",
      " 15  Condition 2      2930 non-null   object \n",
      " 16  Bldg Type        2930 non-null   object \n",
      " 17  House Style      2930 non-null   object \n",
      " 18  Overall Qual     2930 non-null   int64  \n",
      " 19  Overall Cond     2930 non-null   int64  \n",
      " 20  Year Built       2930 non-null   int64  \n",
      " 21  Year Remod/Add   2930 non-null   int64  \n",
      " 22  Roof Style       2930 non-null   object \n",
      " 23  Roof Matl        2930 non-null   object \n",
      " 24  Exterior 1st     2930 non-null   object \n",
      " 25  Exterior 2nd     2930 non-null   object \n",
      " 26  Mas Vnr Type     1155 non-null   object \n",
      " 27  Mas Vnr Area     2907 non-null   float64\n",
      " 28  Exter Qual       2930 non-null   object \n",
      " 29  Exter Cond       2930 non-null   object \n",
      " 30  Foundation       2930 non-null   object \n",
      " 31  Bsmt Qual        2850 non-null   object \n",
      " 32  Bsmt Cond        2850 non-null   object \n",
      " 33  Bsmt Exposure    2847 non-null   object \n",
      " 34  BsmtFin Type 1   2850 non-null   object \n",
      " 35  BsmtFin SF 1     2929 non-null   float64\n",
      " 36  BsmtFin Type 2   2849 non-null   object \n",
      " 37  BsmtFin SF 2     2929 non-null   float64\n",
      " 38  Bsmt Unf SF      2929 non-null   float64\n",
      " 39  Total Bsmt SF    2929 non-null   float64\n",
      " 40  Heating          2930 non-null   object \n",
      " 41  Heating QC       2930 non-null   object \n",
      " 42  Central Air      2930 non-null   object \n",
      " 43  Electrical       2929 non-null   object \n",
      " 44  1st Flr SF       2930 non-null   int64  \n",
      " 45  2nd Flr SF       2930 non-null   int64  \n",
      " 46  Low Qual Fin SF  2930 non-null   int64  \n",
      " 47  Gr Liv Area      2930 non-null   int64  \n",
      " 48  Bsmt Full Bath   2928 non-null   float64\n",
      " 49  Bsmt Half Bath   2928 non-null   float64\n",
      " 50  Full Bath        2930 non-null   int64  \n",
      " 51  Half Bath        2930 non-null   int64  \n",
      " 52  Bedroom AbvGr    2930 non-null   int64  \n",
      " 53  Kitchen AbvGr    2930 non-null   int64  \n",
      " 54  Kitchen Qual     2930 non-null   object \n",
      " 55  TotRms AbvGrd    2930 non-null   int64  \n",
      " 56  Functional       2930 non-null   object \n",
      " 57  Fireplaces       2930 non-null   int64  \n",
      " 58  Fireplace Qu     1508 non-null   object \n",
      " 59  Garage Type      2773 non-null   object \n",
      " 60  Garage Yr Blt    2771 non-null   float64\n",
      " 61  Garage Finish    2771 non-null   object \n",
      " 62  Garage Cars      2929 non-null   float64\n",
      " 63  Garage Area      2929 non-null   float64\n",
      " 64  Garage Qual      2771 non-null   object \n",
      " 65  Garage Cond      2771 non-null   object \n",
      " 66  Paved Drive      2930 non-null   object \n",
      " 67  Wood Deck SF     2930 non-null   int64  \n",
      " 68  Open Porch SF    2930 non-null   int64  \n",
      " 69  Enclosed Porch   2930 non-null   int64  \n",
      " 70  3Ssn Porch       2930 non-null   int64  \n",
      " 71  Screen Porch     2930 non-null   int64  \n",
      " 72  Pool Area        2930 non-null   int64  \n",
      " 73  Pool QC          13 non-null     object \n",
      " 74  Fence            572 non-null    object \n",
      " 75  Misc Feature     106 non-null    object \n",
      " 76  Misc Val         2930 non-null   int64  \n",
      " 77  Mo Sold          2930 non-null   int64  \n",
      " 78  Yr Sold          2930 non-null   int64  \n",
      " 79  Sale Type        2930 non-null   object \n",
      " 80  Sale Condition   2930 non-null   object \n",
      " 81  SalePrice        2930 non-null   int64  \n",
      "dtypes: float64(11), int64(28), object(43)\n",
      "memory usage: 1.8+ MB\n",
      "None\n",
      "   Order        PID  MS SubClass MS Zoning  Lot Frontage  Lot Area Street  \\\n",
      "0      1  526301100           20        RL         141.0     31770   Pave   \n",
      "1      2  526350040           20        RH          80.0     11622   Pave   \n",
      "2      3  526351010           20        RL          81.0     14267   Pave   \n",
      "3      4  526353030           20        RL          93.0     11160   Pave   \n",
      "4      5  527105010           60        RL          74.0     13830   Pave   \n",
      "\n",
      "  Alley Lot Shape Land Contour  ... Pool Area Pool QC  Fence Misc Feature  \\\n",
      "0   NaN       IR1          Lvl  ...         0     NaN    NaN          NaN   \n",
      "1   NaN       Reg          Lvl  ...         0     NaN  MnPrv          NaN   \n",
      "2   NaN       IR1          Lvl  ...         0     NaN    NaN         Gar2   \n",
      "3   NaN       Reg          Lvl  ...         0     NaN    NaN          NaN   \n",
      "4   NaN       IR1          Lvl  ...         0     NaN  MnPrv          NaN   \n",
      "\n",
      "  Misc Val Mo Sold Yr Sold Sale Type  Sale Condition  SalePrice  \n",
      "0        0       5    2010       WD           Normal     215000  \n",
      "1        0       6    2010       WD           Normal     105000  \n",
      "2    12500       6    2010       WD           Normal     172000  \n",
      "3        0       4    2010       WD           Normal     244000  \n",
      "4        0       3    2010       WD           Normal     189900  \n",
      "\n",
      "[5 rows x 82 columns]\n"
     ]
    }
   ],
   "source": [
    "print(df.shape)\n",
    "print(df.info())\n",
    "print(df.head())"
   ]
  },
  {
   "cell_type": "markdown",
   "metadata": {},
   "source": [
    "## Data Cleaning"
   ]
  },
  {
   "cell_type": "markdown",
   "metadata": {},
   "source": [
    "### Check for Duplicate and Missing Values"
   ]
  },
  {
   "cell_type": "code",
   "execution_count": 191,
   "metadata": {},
   "outputs": [
    {
     "name": "stdout",
     "output_type": "stream",
     "text": [
      "Number of duplicate rows: 0 \n",
      "\n",
      "Number of missing values per column (non-zero):\n",
      "Lot Frontage       3\n",
      "Bsmt Qual         78\n",
      "Bsmt Cond         78\n",
      "Bsmt Exposure     78\n",
      "BsmtFin Type 1    78\n",
      "BsmtFin Type 2    78\n",
      "\n",
      "Lot Frontage - missing: 3\n",
      "[141.   80.   81.   93.   74.   78.   41.   43.   39.   60.   75.   64.\n",
      "  63.   85.   47.  152.   88.  140.  105.   72.   73.   65.   70.   26.\n",
      "  21.   53.   24.  102.   98.   83.   94.   95.   90.   79.  100.   44.\n",
      " 110.   61.   36.   67.  108.   59.   92.   58.   56.   84.   76.   50.\n",
      "  55.   68.  107.   25.   30.   57.   40.   77.  120.  137.   87.  119.\n",
      "  96.   71.   69.   51.   52.   80.5  54.   86.  124.   64.5  82.   38.\n",
      "  48.   89.   66.   45.   35.  129.   31.   42.   28.   99.  104.   97.\n",
      " 103.   34.  117.  149.  122.   62.  174.  106.  112.   32.  115.  128.\n",
      "  91.   33.  121.  144.  130.  109.  150.  113.  125.  101.   46.  114.\n",
      " 135.  136.   37.   22.  313.   49.  160.  195.  118.  134.   91.5 182.\n",
      " 116.  138.  155.  126.  200.  168.  111.  131.  153.  133. ]\n",
      "\n",
      "Bsmt Qual - missing: 78\n",
      "['TA' 'Gd' 'Ex' 'Fa' 'Po']\n",
      "\n",
      "Bsmt Cond - missing: 78\n",
      "['Gd' 'TA' 'Po' 'Fa' 'Ex']\n",
      "\n",
      "Bsmt Exposure - missing: 78\n",
      "['Gd' 'No' 'Mn' 'Av']\n",
      "\n",
      "BsmtFin Type 1 - missing: 78\n",
      "['BLQ' 'Rec' 'ALQ' 'GLQ' 'Unf' 'LwQ']\n",
      "\n",
      "BsmtFin Type 2 - missing: 78\n",
      "['Unf' 'LwQ' 'BLQ' 'Rec' 'GLQ' 'ALQ']\n",
      "Series([], Name: count, dtype: int64)\n",
      "Series([], Name: count, dtype: int64)\n",
      "Series([], Name: count, dtype: int64)\n",
      "Series([], Name: count, dtype: int64)\n",
      "Series([], Name: count, dtype: int64)\n",
      "Empty DataFrame\n",
      "Columns: [Garage Type, Garage Yr Blt, Garage Finish, Garage Qual, Garage Cond, Garage Cars, Garage Area]\n",
      "Index: []\n"
     ]
    }
   ],
   "source": [
    "# Duplicates\n",
    "print(\"Number of duplicate rows:\", df.duplicated().sum(), \"\\n\")\n",
    "\n",
    "# Missing Values\n",
    "print(\"Number of missing values per column (non-zero):\")\n",
    "num_missing = df.isnull().sum()\n",
    "print(num_missing[num_missing > 0].to_string())\n",
    "\n",
    "# Remove rows corresponding to columns that have only 1 or 2 missing values\n",
    "low_null_cols = df.columns[df.isnull().sum().between(1, 2)]\n",
    "df = df.dropna(subset=low_null_cols)\n",
    "\n",
    "# Print unique non-null values for other columns with missing values\n",
    "high_null_cols = df.columns[df.isnull().sum() > 2]\n",
    "for col in high_null_cols:\n",
    "    print(f\"\\n{col} - missing: {df[col].isnull().sum()}\")\n",
    "    print(df[col].dropna().unique())\n",
    "\n",
    "# Validate if null values should be filled\n",
    "print(df[df['Fireplace Qu'].isnull()]['Fireplaces'].value_counts())\n",
    "print(df[df['Pool QC'].isnull()]['Pool Area'].value_counts())\n",
    "print(df[df['Misc Feature'].isnull()]['Misc Val'].value_counts())\n",
    "print(df[df['Mas Vnr Type'].isnull()][['Mas Vnr Area']].value_counts())\n",
    "print(df[df['Garage Type'].isnull()]['Garage Area'].value_counts())\n",
    "\n",
    "# Get rows where Garage Type is NOT null but at least one other garage col IS null\n",
    "garage_cols = ['Garage Yr Blt', 'Garage Finish', 'Garage Qual', 'Garage Cond']\n",
    "mask = df['Garage Type'].notnull() & df[garage_cols].isnull().any(axis=1)\n",
    "print(df[mask][['Garage Type'] + garage_cols + ['Garage Cars', 'Garage Area']])\n",
    "\n",
    "# Define basement-related columns and identify rows with partially missing basement info\n",
    "basement_cols = ['Bsmt Qual', 'Bsmt Cond', 'Bsmt Exposure', 'BsmtFin Type 1', 'BsmtFin Type 2']\n",
    "partial_missing_basement = df[basement_cols].isnull().any(axis=1) & ~df[basement_cols].isnull().all(axis=1)"
   ]
  },
  {
   "cell_type": "markdown",
   "metadata": {},
   "source": [
    "### Treat Missing Values"
   ]
  },
  {
   "cell_type": "code",
   "execution_count": 192,
   "metadata": {},
   "outputs": [],
   "source": [
    "# Replace null values with 'None' or 0 where appropriate\n",
    "df['Fireplace Qu'] = df['Fireplace Qu'].fillna('None')\n",
    "df['Pool QC'] = df['Pool QC'].fillna('None')\n",
    "df['Fence'] = df['Fence'].fillna('None')\n",
    "df['Misc Feature'] = df['Misc Feature'].fillna('None')\n",
    "df['Alley'] = df['Alley'].fillna('None')\n",
    "\n",
    "# Set Mas Vnr Type to 'None' only if area is 0, otherwise 'Unknown'\n",
    "# and drop the row if Mas Vnr Type and Mas Vnr Area are both unknown\n",
    "df.loc[(df['Mas Vnr Type'].isnull()) & (df['Mas Vnr Area'] == 0), 'Mas Vnr Type'] = 'None'\n",
    "df.loc[(df['Mas Vnr Type'].isnull()) & (df['Mas Vnr Area'] != 0), 'Mas Vnr Type'] = 'Unknown'\n",
    "df = df[~((df['Mas Vnr Type'] == 'Unknown') & (df['Mas Vnr Area'].isnull()))]\n",
    "\n",
    "# Fill remaining garage-related missing values\n",
    "# and drop the one garage row with missing qualitative info\n",
    "garage_fill_cols = ['Garage Type', 'Garage Finish', 'Garage Qual', 'Garage Cond']\n",
    "df[garage_fill_cols] = df[garage_fill_cols].fillna('None')\n",
    "df['Garage Yr Blt'] = df['Garage Yr Blt'].fillna(0)\n",
    "\n",
    "# Drop basement rows with partial missing info and fill rest\n",
    "basement_cols = ['Bsmt Qual', 'Bsmt Cond', 'Bsmt Exposure', 'BsmtFin Type 1', 'BsmtFin Type 2']\n",
    "partial_missing_basement = df[basement_cols].isnull().any(axis=1) & ~df[basement_cols].isnull().all(axis=1)\n",
    "df = df[~partial_missing_basement]\n",
    "\n",
    "# Impute Lot Frontage with neghborhood median and drop remaining rows\n",
    "df['Lot Frontage'] = df.groupby('Neighborhood')['Lot Frontage'].transform(\n",
    "    lambda x: x.fillna(x.median()) if x.notna().sum() > 0 else x\n",
    ")"
   ]
  },
  {
   "cell_type": "markdown",
   "metadata": {},
   "source": [
    "## Visualization"
   ]
  },
  {
   "cell_type": "markdown",
   "metadata": {},
   "source": [
    "### SalePrice Distribution"
   ]
  },
  {
   "cell_type": "code",
   "execution_count": 210,
   "metadata": {},
   "outputs": [
    {
     "data": {
      "image/png": "[encoded data removed]",
      "text/plain": [
       "<Figure size 640x480 with 1 Axes>"
      ]
     },
     "metadata": {},
     "output_type": "display_data"
    },
    {
     "name": "stdout",
     "output_type": "stream",
     "text": [
      "count      2899.000000\n",
      "mean     180328.808900\n",
      "std       79840.400516\n",
      "min       12789.000000\n",
      "25%      129000.000000\n",
      "50%      160000.000000\n",
      "75%      213000.000000\n",
      "max      755000.000000\n",
      "Name: SalePrice, dtype: float64\n"
     ]
    }
   ],
   "source": [
    "from matplotlib.ticker import FuncFormatter\n",
    "\n",
    "# Set theme\n",
    "sns.set_theme(style=\"whitegrid\", palette=\"muted\", context=\"notebook\")\n",
    "\n",
    "# Plot SalePrice histogram\n",
    "# plt.figure(figsize=(10, 6))\n",
    "sns.histplot(df['SalePrice'], bins = 30)\n",
    "plt.title('Distribution of Sale Prices', fontsize=16)\n",
    "plt.gca().xaxis.set_major_formatter(FuncFormatter(lambda x, _: f'{x/1000:.0f}K'))\n",
    "plt.xlabel('Sale Price ($)', fontsize=12)\n",
    "plt.ylabel('Number of Houses', fontsize=12)\n",
    "plt.tight_layout()\n",
    "plt.show()\n",
    "\n",
    "# Summary statistics for Sale Price\n",
    "print(df['SalePrice'].describe())"
   ]
  },
  {
   "cell_type": "markdown",
   "metadata": {},
   "source": []
  }
 ],
 "metadata": {
  "kernelspec": {
   "display_name": "Python 3",
   "language": "python",
   "name": "python3"
  },
  "language_info": {
   "codemirror_mode": {
    "name": "ipython",
    "version": 3
   },
   "file_extension": ".py",
   "mimetype": "text/x-python",
   "name": "python",
   "nbconvert_exporter": "python",
   "pygments_lexer": "ipython3",
   "version": "3.12.4"
  }
 },
 "nbformat": 4,
 "nbformat_minor": 2
}
