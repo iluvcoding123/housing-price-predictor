{
 "cells": [
  {
   "cell_type": "markdown",
   "metadata": {},
   "source": [
    "# Modeling\n",
    "In this section, we train and evaluate regression models to predict the SalePrice of homes using the features we selected and preprocessed in the previous notebook.\n",
    "\n",
    "The model will use the following features:\n",
    "- `TotalSF` – Total home area (square feet)\n",
    "- `Overall Qual` – Overall material and finish quality\n",
    "- `Garage Cars` – Garage capacity (number of cars)\n",
    "- `HouseAge` – Year of original construction\n",
    "\n",
    "The target variable is:\n",
    "- `SalePrice` – Final selling price of the property"
   ]
  },
  {
   "cell_type": "markdown",
   "metadata": {},
   "source": [
    "## Load Data"
   ]
  },
  {
   "cell_type": "code",
   "execution_count": 7,
   "metadata": {},
   "outputs": [],
   "source": [
    "import joblib\n",
    "\n",
    "# Load split and scaled data\n",
    "X_train = joblib.load(\"../data/X_train_scaled.pkl\")\n",
    "X_test = joblib.load(\"../data/X_test_scaled.pkl\")\n",
    "y_train = joblib.load(\"../data/y_train.pkl\")\n",
    "y_test = joblib.load(\"../data/y_test.pkl\")"
   ]
  }
 ],
 "metadata": {
  "kernelspec": {
   "display_name": "Python 3",
   "language": "python",
   "name": "python3"
  },
  "language_info": {
   "codemirror_mode": {
    "name": "ipython",
    "version": 3
   },
   "file_extension": ".py",
   "mimetype": "text/x-python",
   "name": "python",
   "nbconvert_exporter": "python",
   "pygments_lexer": "ipython3",
   "version": "3.12.4"
  }
 },
 "nbformat": 4,
 "nbformat_minor": 2
}
